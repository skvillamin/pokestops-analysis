{
 "cells": [
  {
   "cell_type": "markdown",
   "metadata": {},
   "source": [
    "**If you lost points on the last checkpoint you can get them back by responding to TA/IA feedback**  \n",
    "\n",
    "Update/change the relevant sections where you lost those points, make sure you respond on GitHub Issues to your TA/IA to call their attention to the changes you made here.\n",
    "\n",
    "Please update your Timeline... no battle plan survives contact with the enemy, so make sure we understand how your plans have changed."
   ]
  },
  {
   "cell_type": "markdown",
   "metadata": {},
   "source": [
    "# COGS 108 - EDA Checkpoint"
   ]
  },
  {
   "cell_type": "markdown",
   "metadata": {},
   "source": [
    "# Names\n",
    "\n",
    "- Yasushi Oh\n",
    "- Nancy Shen\n",
    "- Taggert Smith\n",
    "- Katelyn Villamin"
   ]
  },
  {
   "cell_type": "markdown",
   "metadata": {},
   "source": [
    "# Research Question"
   ]
  },
  {
   "cell_type": "markdown",
   "metadata": {},
   "source": [
    "Has the presence of PokeStops in Californian restaurants or cafes increased their traffic as measured by the frequency of Yelp check-ins? We will examine yelp check-ins frequency alongside the rate of Pokemon Go players over time, focusing on the initial release period in 2016."
   ]
  },
  {
   "cell_type": "markdown",
   "metadata": {},
   "source": [
    "## Background and Prior Work"
   ]
  },
  {
   "cell_type": "markdown",
   "metadata": {},
   "source": [
    "\n",
    "The mobile game Pokémon Go has captivated the world since its 2016 release, drawing in millions of players who explored their surroundings through augmented reality (AR). By integrating location-based services, Pokémon Go influences real-world activities, as users seek \"Pokéstops\" and \"Gyms\" in various neighborhoods, which can, in turn, impact local businesses. The interaction between AR applications and physical businesses has become a point of interest, especially regarding how these digital engagements may affect the performance and reputation of nearby establishments. Given the sustained popularity of Pokémon Go, understanding its impact on local businesses is particularly relevant as other AR-based applications begin to emerge.\n",
    "    Previous research has explored the intersection between Pokémon Go and local businesses, particularly focusing on the impact of nearby Pokéstops on restaurants' online reputations. Zhang and Zhang (2018) investigated whether the proximity to Pokéstops could enhance restaurant reviews, finding a positive correlation between nearby game locations and improved online rating suggests that the increased foot traffic from game players could translate into better business performance and online presence.\n",
    "Similarly, Kondamudi et al. (2017) analyzed Yelp reviews to measure the impact of Pokémon Go on customer feedback. Their study revealed that restaurants and cafes near Pokéstops experienced a notable increase in reviews during the game's peak popularity, indicating heightened customer engagement and potentially increased sales . Zhu (2016) highlighted real-world strategies employed by restaurants to capitalize on the game's popularity, such as offering promotions to attract players. Furthermore,   Kondamud et al. (2021) and Zhang and Zhang (2021) have expanded on these findings, examining how AR games like Pokémon Go can significantly affect local businesses by increasing customer visits and sales . These insights underscomic implications of AR gaming and its potential to influence consumer behavior in the real world.\n",
    "\n",
    "There were studies previously done with similar goals:\n",
    "1. <a name=\"cite_note-1\" href=\"\"></a> [^](#cite_ref-1) Zhang, Y., Zhang, J. (2018) Could Nearby Pokéstops Improve Restaurants’ Online Reputation? *Hawaii International Conference on System Sciences*. https://scholarspace.manoa.hawaii.edu/server/api/core/bitstreams/748cbb5b-9718-45eb-b4ca-c5faeda1a959/content \n",
    "2. <a name=\"cite_note-2\"></a> [^](#cite_ref-2) Kondamudi, P., Protano, B., Alhoori, H. (25 June 2017) Pokemon Go: Impact on Yelp Reviews. *Web Science Conference ‘17* https://dl.acm.org/doi/abs/10.1145/3091478.3098861\n",
    "3. <a name=\"cite_note-3\"></a> [^](#cite_ref-2) Zhang, Y., Zhang J. (30 October 2021) Catch them all: Impact of location-based augmented reality mobile applications on local businesses. *Information & Management Volume 58, Issue 8* https://www.sciencedirect.com/science/article/pii/S0378720621001245\n",
    "4. <a name=\"cite_note-4\"></a> [^](#cite_ref-2) Yehong Zhu (16 July 2016) 5 Brilliant Ways Restaurants Are Using Pokémon Go To Level Up Sales. *Forbes* https://www.forbes.com/sites/yehongzhu/2016/07/16/5-brilliant-ways-restaurants-are-using-pokemon-go-to-level-up-sales/\n",
    "5. <a name=\"cite_note-4\"></a> [^](#cite_ref-2) Pamuru, V., Khern-am-nuai, W., Kannan, Karthik (21 April 2021) The Impact of an Augmented-Reality Game on Local Business: A study of Pokemon Go on Restaurants. *Information System Research Volume 32, Issue 3*  https://pubsonline.informs.org/doi/10.1287/isre.2021.1004"
   ]
  },
  {
   "cell_type": "markdown",
   "metadata": {},
   "source": [
    "# Hypothesis\n"
   ]
  },
  {
   "cell_type": "markdown",
   "metadata": {},
   "source": [
    "We predict that PokéStops in Pokémon Go positively impact foot traffic at nearby locations, as seen by the frequency of Yelp check-ins. Since Pokémon Go saw a surge in popularity at launch, we believe that restaurants designated as PokéStops would have experienced a noticeable increase in visitors, resulting in a rise in the number of check-ins as well."
   ]
  },
  {
   "cell_type": "markdown",
   "metadata": {},
   "source": [
    "# Data"
   ]
  },
  {
   "cell_type": "markdown",
   "metadata": {},
   "source": [
    "## Data overview\n",
    "\n",
    "- Dataset #1: \n",
    "  - Dataset Name: PokéStop Coordinates\n",
    "  - Link to the dataset: https://www.pogomap.info/ \n",
    "  - Number of observations: 386\n",
    "  - Number of variables: 2 (latitude, longitude)\n",
    "- Dataset #2: \n",
    "  - Dataset Name: Yelp Reviews: business.json\n",
    "  - Link to the dataset: https://www.yelp.com/dataset/documentation/main \n",
    "  - Number of observations: 150,000\n",
    "  - Number of variables: 8 - business_id, name, address, city, state, zip, latitude, longitude\n",
    "- Dataset #3: \n",
    "  - Dataset Name: Yelp Reviews: checkin.json \n",
    "  - Link to the dataset: https://www.yelp.com/dataset/documentation/main \n",
    "  - Number of observations: 131,930\n",
    "  - Number of Variables: 2 - business_id, date \n",
    "\n",
    "\n",
    "The first dataset includes the coordinates in terms of longitude and latitude of pokestops and pokegyms where players are more likely to visit to collect rewards. The current dataset was scraped from the link aforementioned and includes coordinates of pokestops and gyms within the downtown Los Angeles area. However, if needed, we are able to adjust the location of pokestop through our code that will scrape data from the website for pokestops and pokegyms in other locations. The data within this dataset is already cleaned as it just consists of a singular list with each pokestops coordinates. If needed, we can incorporate distinctions between pokestops and pokegyms within the dataset for further analysis on whether pokegyms or pokestops have more of a correlation with yelp reviews. \n",
    "\n",
    "Dataset 2 is taken from yelp’s official database and includes information on the businesses with yelp reviews, their IDs, names, addresses, and coordinates. We plan on using their addresses and coordinates to match the pokestop information from dataset 1. We’ve cleaned this dataset by querying categories that match restaurant data then querying again for restaurants that are in California. \n",
    "Dataset 3 is also taken from yelp’s official database. This dataset includes information about customer interactions with businesses. It’s composed of 2 columns: business_id, and date, where business_id is an unique identifier of each individual business and date is the date during which customers checked in or visited that business. We cleaned this dataset by merging it to the already cleaned dataset 2 using business_id’s in order to find out when customers went to a restaurant. \n",
    "\n",
    "We will combine these datasets as follows:\n",
    "We merge Datasets #2 and #3 by business_id to create a combined dataset with business names and their check in data, and then query for businesses that identify as restaurants.\n",
    "We filter the resulting dataset by coordinates to include only restaurants in our target area (likely downtown LA)\n",
    "We calculate the total number of check-ins for each observation in Dataset #2 by month, for each month in our observation period, and add them as columns to each observation in the resulting dataset.\n",
    "We split the resulting dataset into “Near Pokestop” restaurants and “No Pokestop” restaurants, by checking with Dataset #1 to determine whether they have a pokestop within 80m (the maximum interaction distance in Pokémon GO).\n"
   ]
  },
  {
   "cell_type": "markdown",
   "metadata": {},
   "source": [
    "## Dataset #1 (use name instead of number here)"
   ]
  },
  {
   "cell_type": "code",
   "execution_count": null,
   "metadata": {},
   "outputs": [],
   "source": [
    "## YOUR CODE TO LOAD/CLEAN/TIDY/WRANGLE THE DATA GOES HERE\n",
    "## FEEL FREE TO ADD MULTIPLE CELLS PER SECTION "
   ]
  },
  {
   "cell_type": "markdown",
   "metadata": {},
   "source": [
    "## Yelp Restaurants Check Ins"
   ]
  },
  {
   "cell_type": "code",
   "execution_count": 1,
   "metadata": {},
   "outputs": [],
   "source": [
    "import pandas as pd"
   ]
  },
  {
   "cell_type": "code",
   "execution_count": 2,
   "metadata": {},
   "outputs": [],
   "source": [
    "#Load business.json and checkin.json as a pandas dataframe\n",
    "business_data = pd.read_json('yelp_academic_dataset_business.json', lines=True)\n",
    "checkin_data = pd.read_json('yelp_academic_dataset_checkin.json', lines=True)\n",
    "\n",
    "# Use json_normalize to flatten the structure\n",
    "business = pd.json_normalize(business_data.to_dict(orient=\"records\"))\n",
    "checkin = pd.json_normalize(checkin_data.to_dict(orient=\"records\"))\n",
    "\n",
    "#Explode the string format checkin dates into separate rows values\n",
    "checkin['date'] = checkin['date'].str.split(',')\n",
    "checkin =checkin.explode('date')"
   ]
  },
  {
   "cell_type": "code",
   "execution_count": 9,
   "metadata": {},
   "outputs": [
    {
     "data": {
      "text/html": [
       "<div>\n",
       "<style scoped>\n",
       "    .dataframe tbody tr th:only-of-type {\n",
       "        vertical-align: middle;\n",
       "    }\n",
       "\n",
       "    .dataframe tbody tr th {\n",
       "        vertical-align: top;\n",
       "    }\n",
       "\n",
       "    .dataframe thead th {\n",
       "        text-align: right;\n",
       "    }\n",
       "</style>\n",
       "<table border=\"1\" class=\"dataframe\">\n",
       "  <thead>\n",
       "    <tr style=\"text-align: right;\">\n",
       "      <th></th>\n",
       "      <th>business_id</th>\n",
       "      <th>Name</th>\n",
       "      <th>Street Address</th>\n",
       "      <th>City</th>\n",
       "      <th>State</th>\n",
       "      <th>Zip Code</th>\n",
       "      <th>latitude</th>\n",
       "      <th>longitude</th>\n",
       "      <th>categories</th>\n",
       "      <th>Check-in Date</th>\n",
       "    </tr>\n",
       "  </thead>\n",
       "  <tbody>\n",
       "    <tr>\n",
       "      <th>7131</th>\n",
       "      <td>IDtLPgUrqorrpqSLdfMhZQ</td>\n",
       "      <td>Helena Avenue Bakery</td>\n",
       "      <td>131 Anacapa St, Ste C</td>\n",
       "      <td>Santa Barbara</td>\n",
       "      <td>CA</td>\n",
       "      <td>93101</td>\n",
       "      <td>34.414445</td>\n",
       "      <td>-119.690672</td>\n",
       "      <td>Food, Restaurants, Salad, Coffee &amp; Tea, Breakf...</td>\n",
       "      <td>2016-07-10 21:28:20</td>\n",
       "    </tr>\n",
       "    <tr>\n",
       "      <th>7132</th>\n",
       "      <td>IDtLPgUrqorrpqSLdfMhZQ</td>\n",
       "      <td>Helena Avenue Bakery</td>\n",
       "      <td>131 Anacapa St, Ste C</td>\n",
       "      <td>Santa Barbara</td>\n",
       "      <td>CA</td>\n",
       "      <td>93101</td>\n",
       "      <td>34.414445</td>\n",
       "      <td>-119.690672</td>\n",
       "      <td>Food, Restaurants, Salad, Coffee &amp; Tea, Breakf...</td>\n",
       "      <td>2016-07-10 22:15:29</td>\n",
       "    </tr>\n",
       "    <tr>\n",
       "      <th>7133</th>\n",
       "      <td>IDtLPgUrqorrpqSLdfMhZQ</td>\n",
       "      <td>Helena Avenue Bakery</td>\n",
       "      <td>131 Anacapa St, Ste C</td>\n",
       "      <td>Santa Barbara</td>\n",
       "      <td>CA</td>\n",
       "      <td>93101</td>\n",
       "      <td>34.414445</td>\n",
       "      <td>-119.690672</td>\n",
       "      <td>Food, Restaurants, Salad, Coffee &amp; Tea, Breakf...</td>\n",
       "      <td>2016-07-10 23:35:53</td>\n",
       "    </tr>\n",
       "    <tr>\n",
       "      <th>7134</th>\n",
       "      <td>IDtLPgUrqorrpqSLdfMhZQ</td>\n",
       "      <td>Helena Avenue Bakery</td>\n",
       "      <td>131 Anacapa St, Ste C</td>\n",
       "      <td>Santa Barbara</td>\n",
       "      <td>CA</td>\n",
       "      <td>93101</td>\n",
       "      <td>34.414445</td>\n",
       "      <td>-119.690672</td>\n",
       "      <td>Food, Restaurants, Salad, Coffee &amp; Tea, Breakf...</td>\n",
       "      <td>2016-07-12 18:33:30</td>\n",
       "    </tr>\n",
       "    <tr>\n",
       "      <th>7135</th>\n",
       "      <td>IDtLPgUrqorrpqSLdfMhZQ</td>\n",
       "      <td>Helena Avenue Bakery</td>\n",
       "      <td>131 Anacapa St, Ste C</td>\n",
       "      <td>Santa Barbara</td>\n",
       "      <td>CA</td>\n",
       "      <td>93101</td>\n",
       "      <td>34.414445</td>\n",
       "      <td>-119.690672</td>\n",
       "      <td>Food, Restaurants, Salad, Coffee &amp; Tea, Breakf...</td>\n",
       "      <td>2016-07-16 19:50:46</td>\n",
       "    </tr>\n",
       "    <tr>\n",
       "      <th>...</th>\n",
       "      <td>...</td>\n",
       "      <td>...</td>\n",
       "      <td>...</td>\n",
       "      <td>...</td>\n",
       "      <td>...</td>\n",
       "      <td>...</td>\n",
       "      <td>...</td>\n",
       "      <td>...</td>\n",
       "      <td>...</td>\n",
       "      <td>...</td>\n",
       "    </tr>\n",
       "    <tr>\n",
       "      <th>13370634</th>\n",
       "      <td>uriD7RFuHhLJeDdKaf0nFA</td>\n",
       "      <td>Pizza Guru</td>\n",
       "      <td>3534 State St</td>\n",
       "      <td>Santa Barbara</td>\n",
       "      <td>CA</td>\n",
       "      <td>93105</td>\n",
       "      <td>34.440689</td>\n",
       "      <td>-119.739681</td>\n",
       "      <td>Restaurants, Pizza, Food</td>\n",
       "      <td>2019-01-26 04:46:11</td>\n",
       "    </tr>\n",
       "    <tr>\n",
       "      <th>13370635</th>\n",
       "      <td>uriD7RFuHhLJeDdKaf0nFA</td>\n",
       "      <td>Pizza Guru</td>\n",
       "      <td>3534 State St</td>\n",
       "      <td>Santa Barbara</td>\n",
       "      <td>CA</td>\n",
       "      <td>93105</td>\n",
       "      <td>34.440689</td>\n",
       "      <td>-119.739681</td>\n",
       "      <td>Restaurants, Pizza, Food</td>\n",
       "      <td>2019-02-04 23:35:20</td>\n",
       "    </tr>\n",
       "    <tr>\n",
       "      <th>13370636</th>\n",
       "      <td>uriD7RFuHhLJeDdKaf0nFA</td>\n",
       "      <td>Pizza Guru</td>\n",
       "      <td>3534 State St</td>\n",
       "      <td>Santa Barbara</td>\n",
       "      <td>CA</td>\n",
       "      <td>93105</td>\n",
       "      <td>34.440689</td>\n",
       "      <td>-119.739681</td>\n",
       "      <td>Restaurants, Pizza, Food</td>\n",
       "      <td>2019-02-23 23:15:13</td>\n",
       "    </tr>\n",
       "    <tr>\n",
       "      <th>13370637</th>\n",
       "      <td>uriD7RFuHhLJeDdKaf0nFA</td>\n",
       "      <td>Pizza Guru</td>\n",
       "      <td>3534 State St</td>\n",
       "      <td>Santa Barbara</td>\n",
       "      <td>CA</td>\n",
       "      <td>93105</td>\n",
       "      <td>34.440689</td>\n",
       "      <td>-119.739681</td>\n",
       "      <td>Restaurants, Pizza, Food</td>\n",
       "      <td>2019-04-07 21:37:23</td>\n",
       "    </tr>\n",
       "    <tr>\n",
       "      <th>13370638</th>\n",
       "      <td>uriD7RFuHhLJeDdKaf0nFA</td>\n",
       "      <td>Pizza Guru</td>\n",
       "      <td>3534 State St</td>\n",
       "      <td>Santa Barbara</td>\n",
       "      <td>CA</td>\n",
       "      <td>93105</td>\n",
       "      <td>34.440689</td>\n",
       "      <td>-119.739681</td>\n",
       "      <td>Restaurants, Pizza, Food</td>\n",
       "      <td>2019-09-17 01:49:56</td>\n",
       "    </tr>\n",
       "  </tbody>\n",
       "</table>\n",
       "<p>544016 rows × 10 columns</p>\n",
       "</div>"
      ],
      "text/plain": [
       "                     business_id                  Name         Street Address  \\\n",
       "7131      IDtLPgUrqorrpqSLdfMhZQ  Helena Avenue Bakery  131 Anacapa St, Ste C   \n",
       "7132      IDtLPgUrqorrpqSLdfMhZQ  Helena Avenue Bakery  131 Anacapa St, Ste C   \n",
       "7133      IDtLPgUrqorrpqSLdfMhZQ  Helena Avenue Bakery  131 Anacapa St, Ste C   \n",
       "7134      IDtLPgUrqorrpqSLdfMhZQ  Helena Avenue Bakery  131 Anacapa St, Ste C   \n",
       "7135      IDtLPgUrqorrpqSLdfMhZQ  Helena Avenue Bakery  131 Anacapa St, Ste C   \n",
       "...                          ...                   ...                    ...   \n",
       "13370634  uriD7RFuHhLJeDdKaf0nFA            Pizza Guru          3534 State St   \n",
       "13370635  uriD7RFuHhLJeDdKaf0nFA            Pizza Guru          3534 State St   \n",
       "13370636  uriD7RFuHhLJeDdKaf0nFA            Pizza Guru          3534 State St   \n",
       "13370637  uriD7RFuHhLJeDdKaf0nFA            Pizza Guru          3534 State St   \n",
       "13370638  uriD7RFuHhLJeDdKaf0nFA            Pizza Guru          3534 State St   \n",
       "\n",
       "                   City State Zip Code   latitude   longitude  \\\n",
       "7131      Santa Barbara    CA    93101  34.414445 -119.690672   \n",
       "7132      Santa Barbara    CA    93101  34.414445 -119.690672   \n",
       "7133      Santa Barbara    CA    93101  34.414445 -119.690672   \n",
       "7134      Santa Barbara    CA    93101  34.414445 -119.690672   \n",
       "7135      Santa Barbara    CA    93101  34.414445 -119.690672   \n",
       "...                 ...   ...      ...        ...         ...   \n",
       "13370634  Santa Barbara    CA    93105  34.440689 -119.739681   \n",
       "13370635  Santa Barbara    CA    93105  34.440689 -119.739681   \n",
       "13370636  Santa Barbara    CA    93105  34.440689 -119.739681   \n",
       "13370637  Santa Barbara    CA    93105  34.440689 -119.739681   \n",
       "13370638  Santa Barbara    CA    93105  34.440689 -119.739681   \n",
       "\n",
       "                                                 categories  \\\n",
       "7131      Food, Restaurants, Salad, Coffee & Tea, Breakf...   \n",
       "7132      Food, Restaurants, Salad, Coffee & Tea, Breakf...   \n",
       "7133      Food, Restaurants, Salad, Coffee & Tea, Breakf...   \n",
       "7134      Food, Restaurants, Salad, Coffee & Tea, Breakf...   \n",
       "7135      Food, Restaurants, Salad, Coffee & Tea, Breakf...   \n",
       "...                                                     ...   \n",
       "13370634                           Restaurants, Pizza, Food   \n",
       "13370635                           Restaurants, Pizza, Food   \n",
       "13370636                           Restaurants, Pizza, Food   \n",
       "13370637                           Restaurants, Pizza, Food   \n",
       "13370638                           Restaurants, Pizza, Food   \n",
       "\n",
       "                 Check-in Date  \n",
       "7131       2016-07-10 21:28:20  \n",
       "7132       2016-07-10 22:15:29  \n",
       "7133       2016-07-10 23:35:53  \n",
       "7134       2016-07-12 18:33:30  \n",
       "7135       2016-07-16 19:50:46  \n",
       "...                        ...  \n",
       "13370634   2019-01-26 04:46:11  \n",
       "13370635   2019-02-04 23:35:20  \n",
       "13370636   2019-02-23 23:15:13  \n",
       "13370637   2019-04-07 21:37:23  \n",
       "13370638   2019-09-17 01:49:56  \n",
       "\n",
       "[544016 rows x 10 columns]"
      ]
     },
     "execution_count": 9,
     "metadata": {},
     "output_type": "execute_result"
    }
   ],
   "source": [
    "#Take only the necessary columns\n",
    "business_cleaned= business[['business_id','name', 'address', 'city', 'state', 'postal_code', 'latitude', 'longitude', 'categories']]\n",
    "\n",
    "#Rename columns\n",
    "business_cleaned= business_cleaned.rename(columns={'name': 'Name', 'address': 'Street Address', 'city': 'City', 'state': 'State', 'postal_code': 'Zip Code'})\n",
    "\n",
    "#Merge businesses with the checkins\n",
    "merged= pd.merge(business_cleaned, checkin, how='left', on='business_id')\n",
    "\n",
    "#Look for businesses that are restaurants only based on categories\n",
    "categories= ['Food', 'Restaurants', 'Coffee', 'Bars']\n",
    "pattern= '|'.join(categories)\n",
    "restaurants= merged[merged['categories'].str.contains(pattern, case=False, na=False)]\n",
    "\n",
    "#Look for restaurants in CA only\n",
    "restaurants= restaurants[restaurants['State']== 'CA']\n",
    "restaurants= restaurants.rename(columns={'date':'Check-in Date'})\n",
    "\n",
    "restaurants"
   ]
  },
  {
   "cell_type": "markdown",
   "metadata": {},
   "source": [
    "# Results\n",
    "\n",
    "## Exploratory Data Analysis\n",
    "\n",
    "Carry out whatever EDA you need to for your project.  Because every project will be different we can't really give you much of a template at this point. But please make sure you describe the what and why in text here as well as providing interpretation of results and context."
   ]
  },
  {
   "cell_type": "markdown",
   "metadata": {},
   "source": [
    "### Section 1 of EDA - please give it a better title than this\n",
    "\n",
    "Some more words and stuff.  Remember notebooks work best if you interleave the code that generates a result with properly annotate figures and text that puts these results into context."
   ]
  },
  {
   "cell_type": "code",
   "execution_count": 4,
   "metadata": {},
   "outputs": [
    {
     "data": {
      "text/html": [
       "<div>\n",
       "<style scoped>\n",
       "    .dataframe tbody tr th:only-of-type {\n",
       "        vertical-align: middle;\n",
       "    }\n",
       "\n",
       "    .dataframe tbody tr th {\n",
       "        vertical-align: top;\n",
       "    }\n",
       "\n",
       "    .dataframe thead th {\n",
       "        text-align: right;\n",
       "    }\n",
       "</style>\n",
       "<table border=\"1\" class=\"dataframe\">\n",
       "  <thead>\n",
       "    <tr style=\"text-align: right;\">\n",
       "      <th></th>\n",
       "      <th>latitude</th>\n",
       "      <th>longitude</th>\n",
       "    </tr>\n",
       "  </thead>\n",
       "  <tbody>\n",
       "    <tr>\n",
       "      <th>0</th>\n",
       "      <td>34.051482</td>\n",
       "      <td>-118.261797</td>\n",
       "    </tr>\n",
       "    <tr>\n",
       "      <th>1</th>\n",
       "      <td>34.046301</td>\n",
       "      <td>-118.237488</td>\n",
       "    </tr>\n",
       "    <tr>\n",
       "      <th>2</th>\n",
       "      <td>34.056658</td>\n",
       "      <td>-118.237690</td>\n",
       "    </tr>\n",
       "    <tr>\n",
       "      <th>3</th>\n",
       "      <td>34.050214</td>\n",
       "      <td>-118.239153</td>\n",
       "    </tr>\n",
       "    <tr>\n",
       "      <th>4</th>\n",
       "      <td>34.054469</td>\n",
       "      <td>-118.262869</td>\n",
       "    </tr>\n",
       "  </tbody>\n",
       "</table>\n",
       "</div>"
      ],
      "text/plain": [
       "    latitude   longitude\n",
       "0  34.051482 -118.261797\n",
       "1  34.046301 -118.237488\n",
       "2  34.056658 -118.237690\n",
       "3  34.050214 -118.239153\n",
       "4  34.054469 -118.262869"
      ]
     },
     "execution_count": 4,
     "metadata": {},
     "output_type": "execute_result"
    }
   ],
   "source": [
    "#load the data.json file for all the downtown LA coordinates\n",
    "downtown_la = pd.read_json('data.json')\n",
    "\n",
    "#split the data so we can see latitude and longitude in separate columns\n",
    "downtown_la[['latitude', 'longitude']] = downtown_la[0].str.split(', ', expand=True)\n",
    "\n",
    "#remove the column that had combined latitudes and longitudes\n",
    "downtown_la = downtown_la.drop(columns=0)\n",
    "\n",
    "#convert str to float for each column\n",
    "downtown_la['latitude'] = downtown_la['latitude'].astype('float64')\n",
    "downtown_la['longitude'] = downtown_la['longitude'].astype('float64')\n",
    "\n",
    "downtown_la.head()"
   ]
  },
  {
   "cell_type": "code",
   "execution_count": 16,
   "metadata": {},
   "outputs": [
    {
     "data": {
      "text/html": [
       "<div>\n",
       "<style scoped>\n",
       "    .dataframe tbody tr th:only-of-type {\n",
       "        vertical-align: middle;\n",
       "    }\n",
       "\n",
       "    .dataframe tbody tr th {\n",
       "        vertical-align: top;\n",
       "    }\n",
       "\n",
       "    .dataframe thead th {\n",
       "        text-align: right;\n",
       "    }\n",
       "</style>\n",
       "<table border=\"1\" class=\"dataframe\">\n",
       "  <thead>\n",
       "    <tr style=\"text-align: right;\">\n",
       "      <th></th>\n",
       "      <th>Name</th>\n",
       "    </tr>\n",
       "  </thead>\n",
       "  <tbody>\n",
       "    <tr>\n",
       "      <th>0</th>\n",
       "      <td>Helena Avenue Bakery</td>\n",
       "    </tr>\n",
       "    <tr>\n",
       "      <th>1</th>\n",
       "      <td>Santa Barbara Shellfish Company</td>\n",
       "    </tr>\n",
       "    <tr>\n",
       "      <th>2</th>\n",
       "      <td>California Tacos and Taproom</td>\n",
       "    </tr>\n",
       "    <tr>\n",
       "      <th>3</th>\n",
       "      <td>Marty's Pizza</td>\n",
       "    </tr>\n",
       "    <tr>\n",
       "      <th>4</th>\n",
       "      <td>Cal Taco</td>\n",
       "    </tr>\n",
       "    <tr>\n",
       "      <th>...</th>\n",
       "      <td>...</td>\n",
       "    </tr>\n",
       "    <tr>\n",
       "      <th>1437</th>\n",
       "      <td>Good Stuff Baked Treats</td>\n",
       "    </tr>\n",
       "    <tr>\n",
       "      <th>1438</th>\n",
       "      <td>Woody's Roundup Bar &amp; Grill</td>\n",
       "    </tr>\n",
       "    <tr>\n",
       "      <th>1439</th>\n",
       "      <td>Vino Divino</td>\n",
       "    </tr>\n",
       "    <tr>\n",
       "      <th>1440</th>\n",
       "      <td>Kyle's Isla Vista</td>\n",
       "    </tr>\n",
       "    <tr>\n",
       "      <th>1441</th>\n",
       "      <td>Pizza Guru</td>\n",
       "    </tr>\n",
       "  </tbody>\n",
       "</table>\n",
       "<p>1442 rows × 1 columns</p>\n",
       "</div>"
      ],
      "text/plain": [
       "                                 Name\n",
       "0                Helena Avenue Bakery\n",
       "1     Santa Barbara Shellfish Company\n",
       "2        California Tacos and Taproom\n",
       "3                       Marty's Pizza\n",
       "4                            Cal Taco\n",
       "...                               ...\n",
       "1437          Good Stuff Baked Treats\n",
       "1438      Woody's Roundup Bar & Grill\n",
       "1439                      Vino Divino\n",
       "1440                Kyle's Isla Vista\n",
       "1441                       Pizza Guru\n",
       "\n",
       "[1442 rows x 1 columns]"
      ]
     },
     "execution_count": 16,
     "metadata": {},
     "output_type": "execute_result"
    }
   ],
   "source": [
    "restaurants[['Name']].drop_duplicates().reset_index(drop=True)"
   ]
  },
  {
   "cell_type": "code",
   "execution_count": 17,
   "metadata": {},
   "outputs": [
    {
     "data": {
      "text/html": [
       "<div>\n",
       "<style scoped>\n",
       "    .dataframe tbody tr th:only-of-type {\n",
       "        vertical-align: middle;\n",
       "    }\n",
       "\n",
       "    .dataframe tbody tr th {\n",
       "        vertical-align: top;\n",
       "    }\n",
       "\n",
       "    .dataframe thead th {\n",
       "        text-align: right;\n",
       "    }\n",
       "</style>\n",
       "<table border=\"1\" class=\"dataframe\">\n",
       "  <thead>\n",
       "    <tr style=\"text-align: right;\">\n",
       "      <th></th>\n",
       "      <th>City</th>\n",
       "    </tr>\n",
       "  </thead>\n",
       "  <tbody>\n",
       "    <tr>\n",
       "      <th>0</th>\n",
       "      <td>Santa Barbara</td>\n",
       "    </tr>\n",
       "    <tr>\n",
       "      <th>1</th>\n",
       "      <td>Isla Vista</td>\n",
       "    </tr>\n",
       "    <tr>\n",
       "      <th>2</th>\n",
       "      <td>Goleta</td>\n",
       "    </tr>\n",
       "    <tr>\n",
       "      <th>3</th>\n",
       "      <td>Carpinteria</td>\n",
       "    </tr>\n",
       "    <tr>\n",
       "      <th>4</th>\n",
       "      <td>Montecito</td>\n",
       "    </tr>\n",
       "    <tr>\n",
       "      <th>5</th>\n",
       "      <td>Port Hueneme</td>\n",
       "    </tr>\n",
       "    <tr>\n",
       "      <th>6</th>\n",
       "      <td>Summerland</td>\n",
       "    </tr>\n",
       "    <tr>\n",
       "      <th>7</th>\n",
       "      <td>Santa Clara</td>\n",
       "    </tr>\n",
       "    <tr>\n",
       "      <th>8</th>\n",
       "      <td>Santa  Barbara</td>\n",
       "    </tr>\n",
       "    <tr>\n",
       "      <th>9</th>\n",
       "      <td>Truckee</td>\n",
       "    </tr>\n",
       "    <tr>\n",
       "      <th>10</th>\n",
       "      <td>Santa Maria</td>\n",
       "    </tr>\n",
       "  </tbody>\n",
       "</table>\n",
       "</div>"
      ],
      "text/plain": [
       "              City\n",
       "0    Santa Barbara\n",
       "1       Isla Vista\n",
       "2           Goleta\n",
       "3      Carpinteria\n",
       "4        Montecito\n",
       "5     Port Hueneme\n",
       "6       Summerland\n",
       "7      Santa Clara\n",
       "8   Santa  Barbara\n",
       "9          Truckee\n",
       "10     Santa Maria"
      ]
     },
     "execution_count": 17,
     "metadata": {},
     "output_type": "execute_result"
    }
   ],
   "source": [
    "restaurants[['City']].drop_duplicates().reset_index(drop=True)"
   ]
  },
  {
   "cell_type": "code",
   "execution_count": null,
   "metadata": {},
   "outputs": [],
   "source": []
  },
  {
   "cell_type": "code",
   "execution_count": 5,
   "metadata": {},
   "outputs": [
    {
     "name": "stdout",
     "output_type": "stream",
     "text": [
      "min_dtla_coords: 34.040041, -118.268222; max_dtla_coords: 34.064352, -118.230497\n"
     ]
    }
   ],
   "source": [
    "#find the min and max latitudes and longitudes\n",
    "min_latitude = downtown_la['latitude'].min()\n",
    "min_longitude = downtown_la['longitude'].min()\n",
    "max_latitude = downtown_la['latitude'].max()\n",
    "max_longitude = downtown_la['longitude'].max()\n",
    "\n",
    "print(f\"min_dtla_coords: {min_latitude}, {min_longitude}; max_dtla_coords: {max_latitude}, {max_longitude}\")"
   ]
  },
  {
   "cell_type": "code",
   "execution_count": 6,
   "metadata": {},
   "outputs": [
    {
     "data": {
      "text/html": [
       "<div>\n",
       "<style scoped>\n",
       "    .dataframe tbody tr th:only-of-type {\n",
       "        vertical-align: middle;\n",
       "    }\n",
       "\n",
       "    .dataframe tbody tr th {\n",
       "        vertical-align: top;\n",
       "    }\n",
       "\n",
       "    .dataframe thead th {\n",
       "        text-align: right;\n",
       "    }\n",
       "</style>\n",
       "<table border=\"1\" class=\"dataframe\">\n",
       "  <thead>\n",
       "    <tr style=\"text-align: right;\">\n",
       "      <th></th>\n",
       "      <th>business_id</th>\n",
       "      <th>Name</th>\n",
       "      <th>Street Address</th>\n",
       "      <th>City</th>\n",
       "      <th>State</th>\n",
       "      <th>Zip Code</th>\n",
       "      <th>latitude</th>\n",
       "      <th>longitude</th>\n",
       "      <th>categories</th>\n",
       "      <th>Check-in Date</th>\n",
       "    </tr>\n",
       "  </thead>\n",
       "  <tbody>\n",
       "  </tbody>\n",
       "</table>\n",
       "</div>"
      ],
      "text/plain": [
       "Empty DataFrame\n",
       "Columns: [business_id, Name, Street Address, City, State, Zip Code, latitude, longitude, categories, Check-in Date]\n",
       "Index: []"
      ]
     },
     "execution_count": 6,
     "metadata": {},
     "output_type": "execute_result"
    }
   ],
   "source": [
    "#query restuarants dataframe so that it only shows restaurants within the downtown la area\n",
    "latitude_query = (restaurants['latitude'] >= min_latitude) & (restaurants['latitude'] <= max_latitude)\n",
    "longitude_query = (restaurants['longitude'] >= min_longitude) & (restaurants['longitude'] <= max_longitude)\n",
    "restaurants_dtla = restaurants[ latitude_query & longitude_query]\n",
    "restaurants_dtla"
   ]
  },
  {
   "cell_type": "code",
   "execution_count": 7,
   "metadata": {},
   "outputs": [
    {
     "name": "stdout",
     "output_type": "stream",
     "text": [
      "min_restaurant_coords: 32.321229, -120.083748; max_restaurant_coords: 39.382812, -111.046396\n"
     ]
    }
   ],
   "source": [
    "restaurants_latitude_max = restaurants['latitude'].max()\n",
    "restaurants_latitude_min = restaurants['latitude'].min()\n",
    "restaurants_longitude_max = restaurants['longitude'].max()\n",
    "restaurants_longitude_min = restaurants['longitude'].min()\n",
    "\n",
    "\n",
    "print(f\"min_restaurant_coords: {restaurants_latitude_min}, {restaurants_longitude_min}; max_restaurant_coords: {restaurants_latitude_max}, {restaurants_longitude_max}\")"
   ]
  },
  {
   "cell_type": "code",
   "execution_count": 8,
   "metadata": {},
   "outputs": [
    {
     "data": {
      "text/html": [
       "<div>\n",
       "<style scoped>\n",
       "    .dataframe tbody tr th:only-of-type {\n",
       "        vertical-align: middle;\n",
       "    }\n",
       "\n",
       "    .dataframe tbody tr th {\n",
       "        vertical-align: top;\n",
       "    }\n",
       "\n",
       "    .dataframe thead th {\n",
       "        text-align: right;\n",
       "    }\n",
       "</style>\n",
       "<table border=\"1\" class=\"dataframe\">\n",
       "  <thead>\n",
       "    <tr style=\"text-align: right;\">\n",
       "      <th></th>\n",
       "      <th>latitude</th>\n",
       "      <th>longitude</th>\n",
       "    </tr>\n",
       "  </thead>\n",
       "  <tbody>\n",
       "    <tr>\n",
       "      <th>count</th>\n",
       "      <td>544016.000000</td>\n",
       "      <td>544016.000000</td>\n",
       "    </tr>\n",
       "    <tr>\n",
       "      <th>mean</th>\n",
       "      <td>34.421026</td>\n",
       "      <td>-119.718377</td>\n",
       "    </tr>\n",
       "    <tr>\n",
       "      <th>std</th>\n",
       "      <td>0.044878</td>\n",
       "      <td>0.141638</td>\n",
       "    </tr>\n",
       "    <tr>\n",
       "      <th>min</th>\n",
       "      <td>32.321229</td>\n",
       "      <td>-120.083748</td>\n",
       "    </tr>\n",
       "    <tr>\n",
       "      <th>25%</th>\n",
       "      <td>34.414340</td>\n",
       "      <td>-119.739681</td>\n",
       "    </tr>\n",
       "    <tr>\n",
       "      <th>50%</th>\n",
       "      <td>34.419744</td>\n",
       "      <td>-119.699996</td>\n",
       "    </tr>\n",
       "    <tr>\n",
       "      <th>75%</th>\n",
       "      <td>34.427943</td>\n",
       "      <td>-119.691117</td>\n",
       "    </tr>\n",
       "    <tr>\n",
       "      <th>max</th>\n",
       "      <td>39.382812</td>\n",
       "      <td>-111.046396</td>\n",
       "    </tr>\n",
       "  </tbody>\n",
       "</table>\n",
       "</div>"
      ],
      "text/plain": [
       "            latitude      longitude\n",
       "count  544016.000000  544016.000000\n",
       "mean       34.421026    -119.718377\n",
       "std         0.044878       0.141638\n",
       "min        32.321229    -120.083748\n",
       "25%        34.414340    -119.739681\n",
       "50%        34.419744    -119.699996\n",
       "75%        34.427943    -119.691117\n",
       "max        39.382812    -111.046396"
      ]
     },
     "execution_count": 8,
     "metadata": {},
     "output_type": "execute_result"
    }
   ],
   "source": [
    "restaurants[['latitude', 'longitude']].describe()"
   ]
  },
  {
   "cell_type": "code",
   "execution_count": 59,
   "metadata": {},
   "outputs": [
    {
     "data": {
      "text/plain": [
       "(array([5.43993e+05, 2.30000e+01]),\n",
       " array([32.321229 , 35.8520205, 39.382812 ]),\n",
       " <BarContainer object of 2 artists>)"
      ]
     },
     "execution_count": 59,
     "metadata": {},
     "output_type": "execute_result"
    },
    {
     "data": {
      "image/png": "[encoded data removed]",
      "text/plain": [
       "<Figure size 640x480 with 1 Axes>"
      ]
     },
     "metadata": {},
     "output_type": "display_data"
    }
   ],
   "source": [
    "import matplotlib.pyplot as plt\n",
    "\n",
    "plt.hist(restaurants['latitude'], bins=2, edgecolor='black')"
   ]
  },
  {
   "cell_type": "markdown",
   "metadata": {},
   "source": [
    "### Section 2 of EDA if you need it  - please give it a better title than this\n",
    "\n",
    "Some more words and stuff.  Remember notebooks work best if you interleave the code that generates a result with properly annotate figures and text that puts these results into context."
   ]
  },
  {
   "cell_type": "code",
   "execution_count": null,
   "metadata": {},
   "outputs": [],
   "source": [
    "## YOUR CODE HERE\n",
    "## FEEL FREE TO ADD MULTIPLE CELLS PER SECTION"
   ]
  },
  {
   "cell_type": "markdown",
   "metadata": {},
   "source": [
    "# Ethics & Privacy"
   ]
  },
  {
   "cell_type": "markdown",
   "metadata": {},
   "source": [
    "Our proposed data does carry certain unavoidable biases. There will certainly be obscure personal biases in selecting cases to examine, which we will try to reduce by outlining an elaborate set of criteria for selecting the most representative sample of restaurants that we can while ensuring that confounding factors we can anticipate are minimized, and by having each member of our group contribute to the selection process. \n",
    "\n",
    "However, we are aware—thanks to prior work on Pokemon Go hotspot distributions—that PokeStops are concentrated disproportionately in areas with socioeconomically advantaged populations, making it more likely that our selected cases will be from one of those areas, and thus our findings may not be generalizable to disadvantaged populations. Additionally, by necessity our study will likely draw from areas that have experienced consistent economic success and stability, as our case studies need to have been in business since at least 2016. Moreover, our analysis will be stronger if we look at areas with less historical instability, meaning fewer confounds in our dataset. To mitigate this, we may intentionally select from various areas with different socioeconomic statuses (i.e. high traffic low income areas, low traffic low income areas, etc.) to attempt to balance out the biases in our overall dataset.\n",
    "\n",
    "Additionally and unavoidably, due to the nature of Pokemon Go as an online AR video game, we are focused on only people with smartphones and cellular data, resulting in a selection bias. \n",
    "Some data we collect—i.e. Yelp reviews—might contain user identifiable information such as username and profile pictures. Any privacy issues can be avoided here by anonymizing our individual data. However, it will be more difficult to anonymize the establishments we look at, as their location data is relevant to our study, and our paper could have unforeseen consequences for those specific establishments. \n",
    "\n",
    "We will also consult prior work regarding the use of Yelp review data, such as [this paper](https://pubsonline.informs.org/doi/epdf/10.1287/mnsc.2015.2304) on Yelp review fraud, to understand the potential impacts on the results and ethics of our project.\n"
   ]
  },
  {
   "cell_type": "markdown",
   "metadata": {},
   "source": [
    "# Team Expectations "
   ]
  },
  {
   "cell_type": "markdown",
   "metadata": {},
   "source": [
    "- Clear and timely communication through the group chat \n",
    "- Respect to the weekly deadlines and communicate beforehand if there’s any delays\n",
    "- Communicate any issues that may require help from other groupmates"
   ]
  },
  {
   "cell_type": "markdown",
   "metadata": {},
   "source": [
    "# Project Timeline Proposal"
   ]
  },
  {
   "cell_type": "markdown",
   "metadata": {},
   "source": [
    "Specify your team's specific project timeline. An example timeline has been provided. Changes the dates, times, names, and details to fit your group's plan.\n",
    "\n",
    "If you think you will need any special resources or training outside what we have covered in COGS 108 to solve your problem, then your proposal should state these clearly. For example, if you have selected a problem that involves implementing multiple neural networks, please state this so we can make sure you know what you’re doing and so we can point you to resources you will need to implement your project. Note that you are not required to use outside methods.\n",
    "\n",
    "\n",
    "\n",
    "| Meeting Date  | Meeting Time| Completed Before Meeting  | Discuss at Meeting |\n",
    "|---|---|---|---|\n",
    "| 11/1  |  1 PM | Do background research on topic <br> 1. Shortlist of candidates for case studies based on found datasets (). <br>  2. Figuring out how to scrape yelp reviews if needed ().  <br> 3. Finding auxiliary datasets (). <br>  4. Background research on viable methodologies.  | Decide on case studies & credible datasets we will use. Discuss project scope. | \n",
    "| 11/8  |  1 PM | Compile final datasets needed | Update each other on background research done, outline project methodology, and elegate tasks to each member | \n",
    "| 11/15  | 1 PM  | Compile and import data, set up jupyter notebook  | Discuss Wrangling and possible analytical approaches; Assign group members to lead each specific part   |\n",
    "| 11/22  | 1 PM  | Wrangle Data; EDA | Review/Edit wrangling/EDA; Discuss Analysis Plan |\n",
    "| 11/29  | 1 PM  | Finalize wrangling/EDA; Begin Analysis | Discuss/edit Analysis; Complete project check-in |\n",
    "| 12/6  | 1 PM  | Complete analysis; Draft results/conclusion/discussion (Wasp)| Discuss/edit full project |\n",
    "| 12/11  | Before 11:59 PM  | NA | Turn in Final Project & Group Project Surveys |"
   ]
  }
 ],
 "metadata": {
  "kernelspec": {
   "display_name": "dsc80",
   "language": "python",
   "name": "python3"
  },
  "language_info": {
   "codemirror_mode": {
    "name": "ipython",
    "version": 3
   },
   "file_extension": ".py",
   "mimetype": "text/x-python",
   "name": "python",
   "nbconvert_exporter": "python",
   "pygments_lexer": "ipython3",
   "version": "3.8.18"
  }
 },
 "nbformat": 4,
 "nbformat_minor": 2
}
