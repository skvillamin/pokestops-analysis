{
 "cells": [
  {
   "cell_type": "markdown",
   "metadata": {},
   "source": [
    "# COGS 108 - Project Proposal"
   ]
  },
  {
   "cell_type": "markdown",
   "metadata": {},
   "source": [
    "# Names\n",
    "\n",
    "- Katelyn Villamin\n",
    "- Taggert Smith\n",
    "- Yasushi Oh\n",
    "- Nancy Shen\n"
   ]
  },
  {
   "cell_type": "markdown",
   "metadata": {},
   "source": [
    "# Research Question"
   ]
  },
  {
   "cell_type": "markdown",
   "metadata": {},
   "source": [
    "Has the presence of PokeStops in Californian restaurants or cafes increased their traffic as measured by the frequency of Yelp reviews? We will examine yelp review frequency alongside the rate of Pokemon Go players over time, focusing on the initial release period in 2016."
   ]
  },
  {
   "cell_type": "markdown",
   "metadata": {},
   "source": [
    "## Background and Prior Work"
   ]
  },
  {
   "cell_type": "markdown",
   "metadata": {},
   "source": [
    "\n",
    "The mobile game Pokémon Go has captivated the world since its 2016 release, drawing in millions of players who explored their surroundings through augmented reality (AR). By integrating location-based services, Pokémon Go influences real-world activities, as users seek \"Pokéstops\" and \"Gyms\" in various neighborhoods, which can, in turn, impact local businesses. The interaction between AR applications and physical businesses has become a point of interest, especially regarding how these digital engagements may affect the performance and reputation of nearby establishments. Given the sustained popularity of Pokémon Go, understanding its impact on local businesses is particularly relevant as other AR-based applications begin to emerge.\n",
    "\tPrevious research has explored the intersection between Pokémon Go and local businesses, particularly focusing on the impact of nearby Pokéstops on restaurants' online reputations. Zhang and Zhang (2018) investigated whether the proximity to Pokéstops could enhance restaurant reviews, finding a positive correlation between nearby game locations and improved online rating suggests that the increased foot traffic from game players could translate into better business performance and online presence.\n",
    "Similarly, Kondamudi et al. (2017) analyzed Yelp reviews to measure the impact of Pokémon Go on customer feedback. Their study revealed that restaurants and cafes near Pokéstops experienced a notable increase in reviews during the game's peak popularity, indicating heightened customer engagement and potentially increased sales . Zhu (2016) highlighted real-world strategies employed by restaurants to capitalize on the game's popularity, such as offering promotions to attract players. Furthermore,   Kondamud et al. (2021) and Zhang and Zhang (2021) have expanded on these findings, examining how AR games like Pokémon Go can significantly affect local businesses by increasing customer visits and sales . These insights underscomic implications of AR gaming and its potential to influence consumer behavior in the real world.\n",
    "\n",
    "There were studies previously done with similar goals:\n",
    "1. <a name=\"cite_note-1\" href=\"\"></a> [^](#cite_ref-1) Zhang, Y., Zhang, J. (2018) Could Nearby Pokéstops Improve Restaurants’ Online Reputation? *Hawaii International Conference on System Sciences*. https://scholarspace.manoa.hawaii.edu/server/api/core/bitstreams/748cbb5b-9718-45eb-b4ca-c5faeda1a959/content \n",
    "2. <a name=\"cite_note-2\"></a> [^](#cite_ref-2) Kondamudi, P., Protano, B., Alhoori, H. (25 June 2017) Pokemon Go: Impact on Yelp Reviews. *Web Science Conference ‘17* https://dl.acm.org/doi/abs/10.1145/3091478.3098861\n",
    "3. <a name=\"cite_note-3\"></a> [^](#cite_ref-2) Zhang, Y., Zhang J. (30 October 2021) Catch them all: Impact of location-based augmented reality mobile applications on local businesses. *Information & Management Volume 58, Issue 8* https://www.sciencedirect.com/science/article/pii/S0378720621001245\n",
    "4. <a name=\"cite_note-4\"></a> [^](#cite_ref-2) Yehong Zhu (16 July 2016) 5 Brilliant Ways Restaurants Are Using Pokémon Go To Level Up Sales. *Forbes* https://www.forbes.com/sites/yehongzhu/2016/07/16/5-brilliant-ways-restaurants-are-using-pokemon-go-to-level-up-sales/\n",
    "5. <a name=\"cite_note-4\"></a> [^](#cite_ref-2) Pamuru, V., Khern-am-nuai, W., Kannan, Karthik (21 April 2021) The Impact of an Augmented-Reality Game on Local Business: A study of Pokemon Go on Restaurants. *Information System Research Volume 32, Issue 3*  https://pubsonline.informs.org/doi/10.1287/isre.2021.1004"
   ]
  },
  {
   "cell_type": "markdown",
   "metadata": {},
   "source": [
    "# Hypothesis\n"
   ]
  },
  {
   "cell_type": "markdown",
   "metadata": {},
   "source": [
    "We predict that PokéStops in Pokémon Go positively impact foot traffic at nearby locations, as seen by the frequency of Yelp reviews. Since Pokémon Go saw a surge in popularity at launch, we believe that restaurants designated as PokéStops would have experienced a noticeable increase in visitors, resulting in a rise in the number of reviews as well."
   ]
  },
  {
   "cell_type": "markdown",
   "metadata": {},
   "source": [
    "# Data"
   ]
  },
  {
   "cell_type": "markdown",
   "metadata": {},
   "source": [
    "1. Explain what the ideal dataset you would want to answer this question.\n",
    "\n",
    "Primarily, we would like a dataset that has some chronologically-ordered measure of historical customer activity in local restaurants near PokeStops during the time period surrounding Pokemon Go’s release. We wish to collect this data from online public datasets or via web scraping technology on websites that may contain this data—specifically, we currently plan to use the quantity of unique customer Yelp reviews week by week as an implicit measure of customer traffic.\n",
    "\n",
    "We also need a dataset that contains each PokeStop’s locations in California, so we can confirm the proximity of the pokestop to our selected restaurants to investigate. We may also use this data to select establishments without any nearby PokeStops to use as a control group for comparison. We would collect this data from online Pokemon Go sources that already provide maps of PokeStops for players to use. \n",
    "\n",
    "We would also ideally get confirmation that a Pokestop has existed at our selected restaurant during the time period we’re studying—i.e. was not added afterwards. We could select from cases used in prior work on this subject at the time. Alternatively, as Pokestops were initially placed based on locations used in Niantic’s prior project Ingress, we may be able to use publicly available Ingress data to confirm that a given Pokestop has likely existed since the game’s launch.\n",
    "\n",
    "Ideally, we may also want a measure of Pokemon Go’s popularity over time, for a more precise measure than just pre- and post-release to robustify our analysis if we have time. We may be able to correlate the trend of our restaurants’ yelp reviews with the contemporaneous trend in active Pokemon Go players. Ideally we would find usership data for the specific areas we’ll be examining, but general usership may still be useful if necessary.\n",
    "\n",
    "2. Search for potential real datasets that could provide you with something useful for this project. You do not have to find every piece of data you will use, but you do need to have demonstrated some idea that (a) this data is gettable and (b) that this data may be different from what your ideal is.\n",
    "\n",
    "Datasets from which we could select restaurant cases to study:\n",
    "\n",
    "- [Yelp reviews dataset for 45 specific restaurants](https://www.kaggle.com/datasets/farukalam/yelp-restaurant-reviews)\n",
    "\n",
    "- [Local PokeStops](https://www.pogomap.info/location/51,507073/-0,123317/15#google_vignette)\n",
    "\n",
    "We also may end up scraping yelp review data ourselves, allowing us more freedom in selecting cases.\n"
   ]
  },
  {
   "cell_type": "markdown",
   "metadata": {},
   "source": [
    "# Ethics & Privacy"
   ]
  },
  {
   "cell_type": "markdown",
   "metadata": {},
   "source": [
    "Our proposed data does carry certain unavoidable biases. There will certainly be obscure personal biases in selecting cases to examine, which we will try to reduce by outlining an elaborate set of criteria for selecting the most representative sample of restaurants that we can while ensuring that confounding factors we can anticipate are minimized, and by having each member of our group contribute to the selection process. \n",
    "\n",
    "However, we are aware—thanks to prior work on Pokemon Go hotspot distributions—that PokeStops are concentrated disproportionately in areas with socioeconomically advantaged populations, making it more likely that our selected cases will be from one of those areas, and thus our findings may not be generalizable to disadvantaged populations. Additionally, by necessity our study will likely draw from areas that have experienced consistent economic success and stability, as our case studies need to have been in business since at least 2016. Moreover, our analysis will be stronger if we look at areas with less historical instability, meaning fewer confounds in our dataset. To mitigate this, we may intentionally select from various areas with different socioeconomic statuses (i.e. high traffic low income areas, low traffic low income areas, etc.) to attempt to balance out the biases in our overall dataset.\n",
    "\n",
    "Additionally and unavoidably, due to the nature of Pokemon Go as an online AR video game, we are focused on only people with smartphones and cellular data, resulting in a selection bias. \n",
    "Some data we collect—i.e. Yelp reviews—might contain user identifiable information such as username and profile pictures. Any privacy issues can be avoided here by anonymizing our individual data. However, it will be more difficult to anonymize the establishments we look at, as their location data is relevant to our study, and our paper could have unforeseen consequences for those specific establishments. \n",
    "\n",
    "We will also consult prior work regarding the use of Yelp review data, such as [this paper](https://pubsonline.informs.org/doi/epdf/10.1287/mnsc.2015.2304) on Yelp review fraud, to understand the potential impacts on the results and ethics of our project.\n"
   ]
  },
  {
   "cell_type": "markdown",
   "metadata": {},
   "source": [
    "# Team Expectations "
   ]
  },
  {
   "cell_type": "markdown",
   "metadata": {},
   "source": [
    "- Clear and timely communication through the group chat \n",
    "- Respect to the weekly deadlines and communicate beforehand if there’s any delays\n"
   ]
  },
  {
   "cell_type": "markdown",
   "metadata": {},
   "source": [
    "# Project Timeline Proposal"
   ]
  },
  {
   "cell_type": "markdown",
   "metadata": {},
   "source": [
    "Specify your team's specific project timeline. An example timeline has been provided. Changes the dates, times, names, and details to fit your group's plan.\n",
    "\n",
    "If you think you will need any special resources or training outside what we have covered in COGS 108 to solve your problem, then your proposal should state these clearly. For example, if you have selected a problem that involves implementing multiple neural networks, please state this so we can make sure you know what you’re doing and so we can point you to resources you will need to implement your project. Note that you are not required to use outside methods.\n",
    "\n",
    "\n",
    "\n",
    "| Meeting Date  | Meeting Time| Completed Before Meeting  | Discuss at Meeting |\n",
    "|---|---|---|---|\n",
    "| 11/1  |  1 PM | Read & Think about COGS 108 expectations; brainstorm topics/questions  | Discuss project direction. Outline criteria for case study selection. Assign research elements to members for next time. | \n",
    "| 11/8  |  1 PM | Do background research on topic—1. Shortlist of candidates for case studies based on found datasets (). 2. Figuring out how to scrape yelp reviews if needed (). 3. Finding auxiliary datasets (). 4. Background research on viable methodologies. | Decide on case studies & credible datasets we will use. Discuss project scope. | \n",
    "| 11/15  | 1 PM  | Compile and import data, set up jupyter notebook  | Discuss Wrangling and possible analytical approaches; Assign group members to lead each specific part   |\n",
    "| 11/22  | 1 PM  | Wrangle Data; EDA | Review/Edit wrangling/EDA; Discuss Analysis Plan |\n",
    "| 11/29  | 1 PM  | Finalize wrangling/EDA; Begin Analysis | Discuss/edit Analysis; Complete project check-in |\n",
    "| 12/6  | 1 PM  | Complete analysis; Draft results/conclusion/discussion (Wasp)| Discuss/edit full project |\n",
    "| 12/11  | Before 11:59 PM  | NA | Turn in Final Project & Group Project Surveys |"
   ]
  }
 ],
 "metadata": {
  "kernelspec": {
   "display_name": "Python 3",
   "language": "python",
   "name": "python3"
  },
  "language_info": {
   "codemirror_mode": {
    "name": "ipython",
    "version": 3
   },
   "file_extension": ".py",
   "mimetype": "text/x-python",
   "name": "python",
   "nbconvert_exporter": "python",
   "pygments_lexer": "ipython3",
   "version": "3.12.4"
  }
 },
 "nbformat": 4,
 "nbformat_minor": 2
}
