{
 "cells": [
  {
   "cell_type": "markdown",
   "metadata": {},
   "source": [
    "**If you lost points on the last checkpoint you can get them back by responding to TA/IA feedback**  \n",
    "\n",
    "Update/change the relevant sections where you lost those points, make sure you respond on GitHub Issues to your TA/IA to call their attention to the changes you made here.\n",
    "\n",
    "Please update your Timeline... no battle plan survives contact with the enemy, so make sure we understand how your plans have changed."
   ]
  },
  {
   "cell_type": "markdown",
   "metadata": {},
   "source": [
    "# COGS 108 - Data Checkpoint"
   ]
  },
  {
   "cell_type": "markdown",
   "metadata": {},
   "source": [
    "# Names\n",
    "\n",
    "- Ant Man\n",
    "- Hulk\n",
    "- Iron Man\n",
    "- Thor\n",
    "- Wasp"
   ]
  },
  {
   "cell_type": "markdown",
   "metadata": {},
   "source": [
    "# Research Question"
   ]
  },
  {
   "cell_type": "markdown",
   "metadata": {},
   "source": [
    "-  Include a specific, clear data science question.\n",
    "-  Make sure what you're measuring (variables) to answer the question is clear\n",
    "\n",
    "What is your research question? Include the specific question you're setting out to answer. This question should be specific, answerable with data, and clear. A general question with specific subquestions is permitted. (1-2 sentences)\n",
    "\n"
   ]
  },
  {
   "cell_type": "markdown",
   "metadata": {},
   "source": [
    "## Background and Prior Work"
   ]
  },
  {
   "cell_type": "markdown",
   "metadata": {},
   "source": [
    "\n",
    "- Include a general introduction to your topic\n",
    "- Include explanation of what work has been done previously\n",
    "- Include citations or links to previous work\n",
    "\n",
    "This section will present the background and context of your topic and question in a few paragraphs. Include a general introduction to your topic and then describe what information you currently know about the topic after doing your initial research. Include references to other projects who have asked similar questions or approached similar problems. Explain what others have learned in their projects.\n",
    "\n",
    "Find some relevant prior work, and reference those sources, summarizing what each did and what they learned. Even if you think you have a totally novel question, find the most similar prior work that you can and discuss how it relates to your project.\n",
    "\n",
    "References can be research publications, but they need not be. Blogs, GitHub repositories, company websites, etc., are all viable references if they are relevant to your project. It must be clear which information comes from which references. (2-3 paragraphs, including at least 2 references)\n",
    "\n",
    " **Use inline citation through HTML footnotes to specify which references support which statements** \n",
    "\n",
    "For example: After government genocide in the 20th century, real birds were replaced with surveillance drones designed to look just like birds.<a name=\"cite_ref-1\"></a>[<sup>1</sup>](#cite_note-1) Use a minimum of 2 or 3 citations, but we prefer more.<a name=\"cite_ref-2\"></a>[<sup>2</sup>](#cite_note-2) You need enough to fully explain and back up important facts. \n",
    "\n",
    "Note that if you click a footnote number in the paragraph above it will transport you to the proper entry in the footnotes list below.  And if you click the ^ in the footnote entry, it will return you to the place in the main text where the footnote is made.\n",
    "\n",
    "To understand the HTML here, `<a name=\"#...\"> </a>` is a tag that allows you produce a named reference for a given location.  Markdown has the construciton `[text with hyperlink](#named reference)` that will produce a clickable link that transports you the named reference.\n",
    "\n",
    "1. <a name=\"cite_note-1\"></a> [^](#cite_ref-1) Lorenz, T. (9 Dec 2021) Birds Aren’t Real, or Are They? Inside a Gen Z Conspiracy Theory. *The New York Times*. https://www.nytimes.com/2021/12/09/technology/birds-arent-real-gen-z-misinformation.html \n",
    "2. <a name=\"cite_note-2\"></a> [^](#cite_ref-2) Also refs should be important to the background, not some randomly chosen vaguely related stuff. Include a web link if possible in refs as above.\n"
   ]
  },
  {
   "cell_type": "markdown",
   "metadata": {},
   "source": [
    "# Hypothesis\n"
   ]
  },
  {
   "cell_type": "markdown",
   "metadata": {},
   "source": [
    "\n",
    "- Include your team's hypothesis\n",
    "- Ensure that this hypothesis is clear to readers\n",
    "- Explain why you think this will be the outcome (what was your thinking?)\n",
    "\n",
    "What is your main hypothesis/predictions about what the answer to your question is? Briefly explain your thinking. (2-3 sentences)"
   ]
  },
  {
   "cell_type": "markdown",
   "metadata": {},
   "source": [
    "# Data"
   ]
  },
  {
   "cell_type": "markdown",
   "metadata": {},
   "source": [
    "## Data overview\n",
    "\n",
    "For each dataset include the following information\n",
    "- Dataset #1\n",
    "  - Dataset Name:\n",
    "  - Link to the dataset:\n",
    "  - Number of observations:\n",
    "  - Number of variables:\n",
    "- Dataset #2 (if you have more than one!)\n",
    "  - Dataset Name:\n",
    "  - Link to the dataset:\n",
    "  - Number of observations:\n",
    "  - Number of variables:\n",
    "- etc\n",
    "\n",
    "Now write 2 - 5 sentences describing each dataset here. Include a short description of the important variables in the dataset; what the metrics and datatypes are, what concepts they may be proxies for. Include information about how you would need to wrangle/clean/preprocess the dataset\n",
    "\n",
    "If you plan to use multiple datasets, add a few sentences about how you plan to combine these datasets."
   ]
  },
  {
   "cell_type": "markdown",
   "metadata": {},
   "source": [
    "## Pokemon Go Pokestop Locations"
   ]
  },
  {
   "cell_type": "code",
   "execution_count": 19,
   "metadata": {},
   "outputs": [],
   "source": [
    "from playwright.async_api import async_playwright, TimeoutError as PlaywrightTimeoutError\n",
    "\n",
    "scrap_content = []\n",
    "\n",
    "async def scrape_data(latitude, longitude):\n",
    "    async with async_playwright() as p:\n",
    "        # Launch the browser in non-headless mode for visibility\n",
    "        browser = await p.chromium.launch(headless=True)  # Set headless to False\n",
    "        page = await browser.new_page()\n",
    "\n",
    "        # Construct the URL with the given latitude and longitude\n",
    "        url = f'https://www.pogomap.info/location/{latitude}/{longitude}'\n",
    "        await page.goto(url)\n",
    "\n",
    "        # Wait for and click the \"Close\" button before starting the iteration\n",
    "        try:\n",
    "            await page.wait_for_selector('button:has-text(\"Close\")', state='visible', timeout=5000)\n",
    "            await page.click('button:has-text(\"Close\")')\n",
    "            print(\"Clicked the 'Close' button.\")\n",
    "        except PlaywrightTimeoutError:\n",
    "            print(\"Failed to find or click the 'Close' button.\")\n",
    "            await browser.close()\n",
    "            return\n",
    "        \n",
    "        try:\n",
    "            await page.wait_for_selector('a[title=\"Location List\"]', state='visible', timeout=5000)\n",
    "            await page.click('a[title=\"Location List\"]')\n",
    "            print(\"Clicked the 'Location List' link.\")\n",
    "        except PlaywrightTimeoutError:\n",
    "            print(\"Failed to find or click the 'Location List' link.\")\n",
    "            await browser.close()\n",
    "            return\n",
    "\n",
    "        # Wait for the \"listitemswrapper\" div to appear in the DOM\n",
    "        try:\n",
    "            await page.wait_for_selector('div.listitemswrapper', state='attached', timeout=5000)\n",
    "        except PlaywrightTimeoutError:\n",
    "            print(\"`div.listitemswrapper` did not appear in time.\")\n",
    "            await browser.close()\n",
    "            return\n",
    "\n",
    "            # Get all elements matching the selector\n",
    "        elements = await page.query_selector_all('div.listitemswrapper > *')\n",
    "\n",
    "        # Map through each element and get the \"data-url\" attribute\n",
    "        data_urls = [await element.get_attribute('data-url') for element in elements]\n",
    "\n",
    "        # Print out all the data-urls\n",
    "        for url in data_urls:\n",
    "            full_url = f'https://www.pogomap.info{url}'\n",
    "            await page.goto(full_url)\n",
    "\n",
    "            # Wait for the \"closeIcon\" element to be visible and click it\n",
    "            try:\n",
    "                await page.wait_for_selector('div.closeIcon', state='attached', timeout=5000)\n",
    "                await page.click('div.closeIcon')\n",
    "            except PlaywrightTimeoutError:\n",
    "                closeIconProbablyGone = True\n",
    "                print(f\"Failed to find or click 'closeIcon' for {full_url}\")\n",
    "                pass\n",
    "\n",
    "            # Click on the div with id \"infoboxmoreinfohit\"\n",
    "            try:\n",
    "                await page.click('div#infoboxmoreinfohit')\n",
    "            except PlaywrightTimeoutError:\n",
    "                print(f\"Failed to click on 'infoboxmoreinfohit' for {full_url}\")\n",
    "                continue\n",
    "\n",
    "            # Wait for the \"content\" div to load before interacting\n",
    "            try:\n",
    "                await page.wait_for_selector('div.content', state='attached', timeout=5000)\n",
    "                content_div = await page.query_selector('div.content')\n",
    "                if content_div:\n",
    "                    # Search within the content div for the i element with class \"fa fa-crosshairs\"\n",
    "                    crosshairs_div = await content_div.query_selector('i.fa.fa-crosshairs')\n",
    "                    if crosshairs_div:\n",
    "                        # Get the plain text content of the parent div containing the crosshairs icon\n",
    "                        parent_div = await crosshairs_div.evaluate_handle('(el) => el.parentElement')\n",
    "                        text_content = await parent_div.inner_text() if parent_div else \"\"\n",
    "                        print(f\"Text content from {full_url}: {text_content}\")\n",
    "                        scrap_content.append(text_content)\n",
    "                    else:\n",
    "                        print(f\"No 'fa fa-crosshairs' found within 'content' on {full_url}\")\n",
    "                else:\n",
    "                    print(f\"No 'content' div found on {full_url}\")\n",
    "            except PlaywrightTimeoutError:\n",
    "                print(f\"'content' div did not load in time on {full_url}\")\n",
    "\n",
    "\n",
    "        await browser.close()\n",
    "        return scrap_content"
   ]
  },
  {
   "cell_type": "code",
   "execution_count": 20,
   "metadata": {},
   "outputs": [
    {
     "name": "stdout",
     "output_type": "stream",
     "text": [
      "Clicked the 'Close' button.\n",
      "Clicked the 'Location List' link.\n",
      "Text content from https://www.pogomap.info/gym/aurora/90826205:  51.516428, -0.145314\n",
      "Text content from https://www.pogomap.info/gym/agatha-christie-1890-1976/90418180:  51.511804, -0.127393\n",
      "Failed to find or click 'closeIcon' for https://www.pogomap.info/gym/bernard-sunley/90367501\n",
      "Text content from https://www.pogomap.info/gym/bernard-sunley/90367501:  51.510565, -0.146170\n",
      "Failed to find or click 'closeIcon' for https://www.pogomap.info/gym/bloomsbury-central-baptist-church/90467250\n",
      "Text content from https://www.pogomap.info/gym/bloomsbury-central-baptist-church/90467250:  51.516521, -0.126268\n",
      "Failed to find or click 'closeIcon' for https://www.pogomap.info/gym/bond-street-undergrand-station/92910540\n",
      "Text content from https://www.pogomap.info/gym/bond-street-undergrand-station/92910540:  51.514228, -0.149462\n",
      "Failed to find or click 'closeIcon' for https://www.pogomap.info/gym/bridge-of-aspiration/90421788\n",
      "Text content from https://www.pogomap.info/gym/bridge-of-aspiration/90421788:  51.513093, -0.123312\n"
     ]
    },
    {
     "ename": "CancelledError",
     "evalue": "",
     "output_type": "error",
     "traceback": [
      "\u001b[0;31m---------------------------------------------------------------------------\u001b[0m",
      "\u001b[0;31mCancelledError\u001b[0m                            Traceback (most recent call last)",
      "Cell \u001b[0;32mIn[20], line 6\u001b[0m\n\u001b[1;32m      3\u001b[0m longitude \u001b[38;5;241m=\u001b[39m \u001b[38;5;241m-\u001b[39m\u001b[38;5;241m0.136664\u001b[39m\n\u001b[1;32m      5\u001b[0m \u001b[38;5;66;03m# Run the async function in a script\u001b[39;00m\n\u001b[0;32m----> 6\u001b[0m data \u001b[38;5;241m=\u001b[39m \u001b[38;5;28;01mawait\u001b[39;00m scrape_data(latitude, longitude)\n\u001b[1;32m      8\u001b[0m data\n",
      "Cell \u001b[0;32mIn[19], line 55\u001b[0m, in \u001b[0;36mscrape_data\u001b[0;34m(latitude, longitude)\u001b[0m\n\u001b[1;32m     53\u001b[0m \u001b[38;5;66;03m# Wait for the \"closeIcon\" element to be visible and click it\u001b[39;00m\n\u001b[1;32m     54\u001b[0m \u001b[38;5;28;01mtry\u001b[39;00m:\n\u001b[0;32m---> 55\u001b[0m     \u001b[38;5;28;01mawait\u001b[39;00m page\u001b[38;5;241m.\u001b[39mwait_for_selector(\u001b[38;5;124m'\u001b[39m\u001b[38;5;124mdiv.closeIcon\u001b[39m\u001b[38;5;124m'\u001b[39m, state\u001b[38;5;241m=\u001b[39m\u001b[38;5;124m'\u001b[39m\u001b[38;5;124mattached\u001b[39m\u001b[38;5;124m'\u001b[39m, timeout\u001b[38;5;241m=\u001b[39m\u001b[38;5;241m5000\u001b[39m)\n\u001b[1;32m     56\u001b[0m     \u001b[38;5;28;01mawait\u001b[39;00m page\u001b[38;5;241m.\u001b[39mclick(\u001b[38;5;124m'\u001b[39m\u001b[38;5;124mdiv.closeIcon\u001b[39m\u001b[38;5;124m'\u001b[39m)\n\u001b[1;32m     57\u001b[0m \u001b[38;5;28;01mexcept\u001b[39;00m PlaywrightTimeoutError:\n",
      "File \u001b[0;32m/Library/Frameworks/Python.framework/Versions/3.12/lib/python3.12/site-packages/playwright/async_api/_generated.py:8158\u001b[0m, in \u001b[0;36mPage.wait_for_selector\u001b[0;34m(self, selector, timeout, state, strict)\u001b[0m\n\u001b[1;32m   8087\u001b[0m \u001b[38;5;28;01masync\u001b[39;00m \u001b[38;5;28;01mdef\u001b[39;00m \u001b[38;5;21mwait_for_selector\u001b[39m(\n\u001b[1;32m   8088\u001b[0m     \u001b[38;5;28mself\u001b[39m,\n\u001b[1;32m   8089\u001b[0m     selector: \u001b[38;5;28mstr\u001b[39m,\n\u001b[0;32m   (...)\u001b[0m\n\u001b[1;32m   8095\u001b[0m     strict: typing\u001b[38;5;241m.\u001b[39mOptional[\u001b[38;5;28mbool\u001b[39m] \u001b[38;5;241m=\u001b[39m \u001b[38;5;28;01mNone\u001b[39;00m\n\u001b[1;32m   8096\u001b[0m ) \u001b[38;5;241m-\u001b[39m\u001b[38;5;241m>\u001b[39m typing\u001b[38;5;241m.\u001b[39mOptional[\u001b[38;5;124m\"\u001b[39m\u001b[38;5;124mElementHandle\u001b[39m\u001b[38;5;124m\"\u001b[39m]:\n\u001b[1;32m   8097\u001b[0m \u001b[38;5;250m    \u001b[39m\u001b[38;5;124;03m\"\"\"Page.wait_for_selector\u001b[39;00m\n\u001b[1;32m   8098\u001b[0m \n\u001b[1;32m   8099\u001b[0m \u001b[38;5;124;03m    Returns when element specified by selector satisfies `state` option. Returns `null` if waiting for `hidden` or\u001b[39;00m\n\u001b[0;32m   (...)\u001b[0m\n\u001b[1;32m   8154\u001b[0m \u001b[38;5;124;03m    Union[ElementHandle, None]\u001b[39;00m\n\u001b[1;32m   8155\u001b[0m \u001b[38;5;124;03m    \"\"\"\u001b[39;00m\n\u001b[1;32m   8157\u001b[0m     \u001b[38;5;28;01mreturn\u001b[39;00m mapping\u001b[38;5;241m.\u001b[39mfrom_impl_nullable(\n\u001b[0;32m-> 8158\u001b[0m         \u001b[38;5;28;01mawait\u001b[39;00m \u001b[38;5;28mself\u001b[39m\u001b[38;5;241m.\u001b[39m_impl_obj\u001b[38;5;241m.\u001b[39mwait_for_selector(\n\u001b[1;32m   8159\u001b[0m             selector\u001b[38;5;241m=\u001b[39mselector, timeout\u001b[38;5;241m=\u001b[39mtimeout, state\u001b[38;5;241m=\u001b[39mstate, strict\u001b[38;5;241m=\u001b[39mstrict\n\u001b[1;32m   8160\u001b[0m         )\n\u001b[1;32m   8161\u001b[0m     )\n",
      "File \u001b[0;32m/Library/Frameworks/Python.framework/Versions/3.12/lib/python3.12/site-packages/playwright/_impl/_page.py:426\u001b[0m, in \u001b[0;36mPage.wait_for_selector\u001b[0;34m(self, selector, timeout, state, strict)\u001b[0m\n\u001b[1;32m    419\u001b[0m \u001b[38;5;28;01masync\u001b[39;00m \u001b[38;5;28;01mdef\u001b[39;00m \u001b[38;5;21mwait_for_selector\u001b[39m(\n\u001b[1;32m    420\u001b[0m     \u001b[38;5;28mself\u001b[39m,\n\u001b[1;32m    421\u001b[0m     selector: \u001b[38;5;28mstr\u001b[39m,\n\u001b[0;32m   (...)\u001b[0m\n\u001b[1;32m    424\u001b[0m     strict: \u001b[38;5;28mbool\u001b[39m \u001b[38;5;241m=\u001b[39m \u001b[38;5;28;01mNone\u001b[39;00m,\n\u001b[1;32m    425\u001b[0m ) \u001b[38;5;241m-\u001b[39m\u001b[38;5;241m>\u001b[39m Optional[ElementHandle]:\n\u001b[0;32m--> 426\u001b[0m     \u001b[38;5;28;01mreturn\u001b[39;00m \u001b[38;5;28;01mawait\u001b[39;00m \u001b[38;5;28mself\u001b[39m\u001b[38;5;241m.\u001b[39m_main_frame\u001b[38;5;241m.\u001b[39mwait_for_selector(\u001b[38;5;241m*\u001b[39m\u001b[38;5;241m*\u001b[39mlocals_to_params(\u001b[38;5;28mlocals\u001b[39m()))\n",
      "File \u001b[0;32m/Library/Frameworks/Python.framework/Versions/3.12/lib/python3.12/site-packages/playwright/_impl/_frame.py:323\u001b[0m, in \u001b[0;36mFrame.wait_for_selector\u001b[0;34m(self, selector, strict, timeout, state)\u001b[0m\n\u001b[1;32m    315\u001b[0m \u001b[38;5;28;01masync\u001b[39;00m \u001b[38;5;28;01mdef\u001b[39;00m \u001b[38;5;21mwait_for_selector\u001b[39m(\n\u001b[1;32m    316\u001b[0m     \u001b[38;5;28mself\u001b[39m,\n\u001b[1;32m    317\u001b[0m     selector: \u001b[38;5;28mstr\u001b[39m,\n\u001b[0;32m   (...)\u001b[0m\n\u001b[1;32m    320\u001b[0m     state: Literal[\u001b[38;5;124m\"\u001b[39m\u001b[38;5;124mattached\u001b[39m\u001b[38;5;124m\"\u001b[39m, \u001b[38;5;124m\"\u001b[39m\u001b[38;5;124mdetached\u001b[39m\u001b[38;5;124m\"\u001b[39m, \u001b[38;5;124m\"\u001b[39m\u001b[38;5;124mhidden\u001b[39m\u001b[38;5;124m\"\u001b[39m, \u001b[38;5;124m\"\u001b[39m\u001b[38;5;124mvisible\u001b[39m\u001b[38;5;124m\"\u001b[39m] \u001b[38;5;241m=\u001b[39m \u001b[38;5;28;01mNone\u001b[39;00m,\n\u001b[1;32m    321\u001b[0m ) \u001b[38;5;241m-\u001b[39m\u001b[38;5;241m>\u001b[39m Optional[ElementHandle]:\n\u001b[1;32m    322\u001b[0m     \u001b[38;5;28;01mreturn\u001b[39;00m from_nullable_channel(\n\u001b[0;32m--> 323\u001b[0m         \u001b[38;5;28;01mawait\u001b[39;00m \u001b[38;5;28mself\u001b[39m\u001b[38;5;241m.\u001b[39m_channel\u001b[38;5;241m.\u001b[39msend(\u001b[38;5;124m\"\u001b[39m\u001b[38;5;124mwaitForSelector\u001b[39m\u001b[38;5;124m\"\u001b[39m, locals_to_params(\u001b[38;5;28mlocals\u001b[39m()))\n\u001b[1;32m    324\u001b[0m     )\n",
      "File \u001b[0;32m/Library/Frameworks/Python.framework/Versions/3.12/lib/python3.12/site-packages/playwright/_impl/_connection.py:59\u001b[0m, in \u001b[0;36mChannel.send\u001b[0;34m(self, method, params)\u001b[0m\n\u001b[1;32m     58\u001b[0m \u001b[38;5;28;01masync\u001b[39;00m \u001b[38;5;28;01mdef\u001b[39;00m \u001b[38;5;21msend\u001b[39m(\u001b[38;5;28mself\u001b[39m, method: \u001b[38;5;28mstr\u001b[39m, params: Dict \u001b[38;5;241m=\u001b[39m \u001b[38;5;28;01mNone\u001b[39;00m) \u001b[38;5;241m-\u001b[39m\u001b[38;5;241m>\u001b[39m Any:\n\u001b[0;32m---> 59\u001b[0m     \u001b[38;5;28;01mreturn\u001b[39;00m \u001b[38;5;28;01mawait\u001b[39;00m \u001b[38;5;28mself\u001b[39m\u001b[38;5;241m.\u001b[39m_connection\u001b[38;5;241m.\u001b[39mwrap_api_call(\n\u001b[1;32m     60\u001b[0m         \u001b[38;5;28;01mlambda\u001b[39;00m: \u001b[38;5;28mself\u001b[39m\u001b[38;5;241m.\u001b[39minner_send(method, params, \u001b[38;5;28;01mFalse\u001b[39;00m)\n\u001b[1;32m     61\u001b[0m     )\n",
      "File \u001b[0;32m/Library/Frameworks/Python.framework/Versions/3.12/lib/python3.12/site-packages/playwright/_impl/_connection.py:518\u001b[0m, in \u001b[0;36mConnection.wrap_api_call\u001b[0;34m(self, cb, is_internal)\u001b[0m\n\u001b[1;32m    516\u001b[0m \u001b[38;5;28mself\u001b[39m\u001b[38;5;241m.\u001b[39m_api_zone\u001b[38;5;241m.\u001b[39mset(parsed_st)\n\u001b[1;32m    517\u001b[0m \u001b[38;5;28;01mtry\u001b[39;00m:\n\u001b[0;32m--> 518\u001b[0m     \u001b[38;5;28;01mreturn\u001b[39;00m \u001b[38;5;28;01mawait\u001b[39;00m cb()\n\u001b[1;32m    519\u001b[0m \u001b[38;5;28;01mexcept\u001b[39;00m \u001b[38;5;167;01mException\u001b[39;00m \u001b[38;5;28;01mas\u001b[39;00m error:\n\u001b[1;32m    520\u001b[0m     \u001b[38;5;28;01mraise\u001b[39;00m rewrite_error(error, \u001b[38;5;124mf\u001b[39m\u001b[38;5;124m\"\u001b[39m\u001b[38;5;132;01m{\u001b[39;00mparsed_st[\u001b[38;5;124m'\u001b[39m\u001b[38;5;124mapiName\u001b[39m\u001b[38;5;124m'\u001b[39m]\u001b[38;5;132;01m}\u001b[39;00m\u001b[38;5;124m: \u001b[39m\u001b[38;5;132;01m{\u001b[39;00merror\u001b[38;5;132;01m}\u001b[39;00m\u001b[38;5;124m\"\u001b[39m) \u001b[38;5;28;01mfrom\u001b[39;00m \u001b[38;5;28;01mNone\u001b[39;00m\n",
      "File \u001b[0;32m/Library/Frameworks/Python.framework/Versions/3.12/lib/python3.12/site-packages/playwright/_impl/_connection.py:88\u001b[0m, in \u001b[0;36mChannel.inner_send\u001b[0;34m(self, method, params, return_as_dict)\u001b[0m\n\u001b[1;32m     84\u001b[0m     \u001b[38;5;28;01mraise\u001b[39;00m error\n\u001b[1;32m     85\u001b[0m callback \u001b[38;5;241m=\u001b[39m \u001b[38;5;28mself\u001b[39m\u001b[38;5;241m.\u001b[39m_connection\u001b[38;5;241m.\u001b[39m_send_message_to_server(\n\u001b[1;32m     86\u001b[0m     \u001b[38;5;28mself\u001b[39m\u001b[38;5;241m.\u001b[39m_object, method, _filter_none(params)\n\u001b[1;32m     87\u001b[0m )\n\u001b[0;32m---> 88\u001b[0m done, _ \u001b[38;5;241m=\u001b[39m \u001b[38;5;28;01mawait\u001b[39;00m asyncio\u001b[38;5;241m.\u001b[39mwait(\n\u001b[1;32m     89\u001b[0m     {\n\u001b[1;32m     90\u001b[0m         \u001b[38;5;28mself\u001b[39m\u001b[38;5;241m.\u001b[39m_connection\u001b[38;5;241m.\u001b[39m_transport\u001b[38;5;241m.\u001b[39mon_error_future,\n\u001b[1;32m     91\u001b[0m         callback\u001b[38;5;241m.\u001b[39mfuture,\n\u001b[1;32m     92\u001b[0m     },\n\u001b[1;32m     93\u001b[0m     return_when\u001b[38;5;241m=\u001b[39masyncio\u001b[38;5;241m.\u001b[39mFIRST_COMPLETED,\n\u001b[1;32m     94\u001b[0m )\n\u001b[1;32m     95\u001b[0m \u001b[38;5;28;01mif\u001b[39;00m \u001b[38;5;129;01mnot\u001b[39;00m callback\u001b[38;5;241m.\u001b[39mfuture\u001b[38;5;241m.\u001b[39mdone():\n\u001b[1;32m     96\u001b[0m     callback\u001b[38;5;241m.\u001b[39mfuture\u001b[38;5;241m.\u001b[39mcancel()\n",
      "File \u001b[0;32m/Library/Frameworks/Python.framework/Versions/3.12/lib/python3.12/asyncio/tasks.py:464\u001b[0m, in \u001b[0;36mwait\u001b[0;34m(fs, timeout, return_when)\u001b[0m\n\u001b[1;32m    461\u001b[0m     \u001b[38;5;28;01mraise\u001b[39;00m \u001b[38;5;167;01mTypeError\u001b[39;00m(\u001b[38;5;124m\"\u001b[39m\u001b[38;5;124mPassing coroutines is forbidden, use tasks explicitly.\u001b[39m\u001b[38;5;124m\"\u001b[39m)\n\u001b[1;32m    463\u001b[0m loop \u001b[38;5;241m=\u001b[39m events\u001b[38;5;241m.\u001b[39mget_running_loop()\n\u001b[0;32m--> 464\u001b[0m \u001b[38;5;28;01mreturn\u001b[39;00m \u001b[38;5;28;01mawait\u001b[39;00m _wait(fs, timeout, return_when, loop)\n",
      "File \u001b[0;32m/Library/Frameworks/Python.framework/Versions/3.12/lib/python3.12/asyncio/tasks.py:550\u001b[0m, in \u001b[0;36m_wait\u001b[0;34m(fs, timeout, return_when, loop)\u001b[0m\n\u001b[1;32m    547\u001b[0m     f\u001b[38;5;241m.\u001b[39madd_done_callback(_on_completion)\n\u001b[1;32m    549\u001b[0m \u001b[38;5;28;01mtry\u001b[39;00m:\n\u001b[0;32m--> 550\u001b[0m     \u001b[38;5;28;01mawait\u001b[39;00m waiter\n\u001b[1;32m    551\u001b[0m \u001b[38;5;28;01mfinally\u001b[39;00m:\n\u001b[1;32m    552\u001b[0m     \u001b[38;5;28;01mif\u001b[39;00m timeout_handle \u001b[38;5;129;01mis\u001b[39;00m \u001b[38;5;129;01mnot\u001b[39;00m \u001b[38;5;28;01mNone\u001b[39;00m:\n",
      "\u001b[0;31mCancelledError\u001b[0m: "
     ]
    }
   ],
   "source": [
    "# Example usage with coordinates\n",
    "latitude = 51.518931\n",
    "longitude = -0.136664\n",
    "\n",
    "# Run the async function in a script\n",
    "data = await scrape_data(latitude, longitude)\n",
    "\n",
    "data"
   ]
  },
  {
   "cell_type": "code",
   "execution_count": 8,
   "metadata": {},
   "outputs": [
    {
     "name": "stdout",
     "output_type": "stream",
     "text": [
      "UEhM1gtV2h9fyibGQmsIZEdvyYWGZ0bB2c4gVu2F5LCBbIb2xib3LJuLCBTb2P1lcSnMsgVG93biwxgTGS9uDZG9uIXEJv2cm9P1Z2gGgb23YgQH2FotZOGVuHLCGBMrb25kJb24sIlEdyZTWFp0ZXI6gTG9uuZG19uLCVBFb3mdlsYWp5kLCyBXQVzFFrIDZEhQiwg2VW5pdGMVkIEtpbm4dkbl20=\n"
     ]
    }
   ],
   "source": [
    "import base64\n",
    "\n",
    "# Your encoded string\n",
    "encoded_string = \"VUVoTTFndFYyaDlmeWliR1Ftc0laRWR2eVlXR1owYkIyYzRnVnUyRjVMQ0JiSWIyeGliM0xKdUxDQlRiMlAxbGNTbk1zZ1ZHOTNiaXd4Z1RHUzl1RFpHOXVJWEVKdjJjbTlQMVoyZ0dnYjIzWWdRSDJGb3RaT0dWdUhMQ0dCTXJiMjVrSmIyNHNJbEVkeVpUV0ZwMFpYSTZnVEc5dXVaRzE5dUxDVkJGYjNtZGxzWVdwNWtMQ3lCWFFWekZGcklEWkVoUWl3ZzJWVzVwZEdNVmtJRXRwYm00ZGtibDIwPQ==\"\n",
    "\n",
    "# Decode the string\n",
    "decoded_bytes = base64.b64decode(encoded_string)\n",
    "decoded_string = decoded_bytes.decode('utf-8', errors='ignore')  # Use 'ignore' to skip non-UTF-8 characters if needed\n",
    "\n",
    "print(decoded_string)"
   ]
  },
  {
   "cell_type": "markdown",
   "metadata": {},
   "source": [
    "## Yelp Restaurants Reviews"
   ]
  },
  {
   "cell_type": "code",
   "execution_count": 14,
   "metadata": {},
   "outputs": [
    {
     "name": "stderr",
     "output_type": "stream",
     "text": [
      "C:\\Users\\works\\AppData\\Local\\Temp\\ipykernel_29272\\3903700540.py:12: SettingWithCopyWarning: \n",
      "A value is trying to be set on a copy of a slice from a DataFrame.\n",
      "Try using .loc[row_indexer,col_indexer] = value instead\n",
      "\n",
      "See the caveats in the documentation: https://pandas.pydata.org/pandas-docs/stable/user_guide/indexing.html#returning-a-view-versus-a-copy\n",
      "  restaurants_cleaned['Yelp URL'] = restaurants_cleaned['Yelp URL'].astype(str)\n",
      "C:\\Users\\works\\AppData\\Local\\Temp\\ipykernel_29272\\3903700540.py:16: SettingWithCopyWarning: \n",
      "A value is trying to be set on a copy of a slice from a DataFrame.\n",
      "Try using .loc[row_indexer,col_indexer] = value instead\n",
      "\n",
      "See the caveats in the documentation: https://pandas.pydata.org/pandas-docs/stable/user_guide/indexing.html#returning-a-view-versus-a-copy\n",
      "  restaurants_cleaned['Zip Code'] = restaurants_cleaned['Zip Code'].astype(str).str.replace('.0', '', regex=False)\n"
     ]
    }
   ],
   "source": [
    "import pandas as pd\n",
    "\n",
    "# Load the datasets\n",
    "restaurants = pd.read_csv('california_restaurants.csv')\n",
    "reviews = pd.read_csv('Yelp Restaurant Reviews.csv')\n",
    "\n",
    "# Keep only necessary columns from restaurants & reviews\n",
    "restaurants_cleaned = restaurants[['Yelp URL', 'Name', 'Street Address', 'Zip Code', 'City', 'State']]\n",
    "reviews_cleaned = reviews.drop(columns=['Review Text'])\n",
    "\n",
    "# Ensure both 'Yelp URL' columns are strings\n",
    "restaurants_cleaned['Yelp URL'] = restaurants_cleaned['Yelp URL'].astype(str)\n",
    "reviews_cleaned['Yelp URL'] = reviews_cleaned['Yelp URL'].astype(str)\n",
    "\n",
    "# Change restaurants' zip code into a string format and remove leading zeroes\n",
    "restaurants_cleaned['Zip Code'] = restaurants_cleaned['Zip Code'].astype(str).str.replace('.0', '', regex=False)\n",
    "\n",
    "# Convert Date to pd.datetime format\n",
    "reviews_cleaned['Date'] = pd.to_datetime(reviews_cleaned['Date'])\n",
    "\n",
    "# Filter dates only between 2014 and 2016\n",
    "reviews_cleaned = reviews_cleaned[reviews_cleaned['Date'].between('2014/01/01', '2016/12/31')]\n"
   ]
  },
  {
   "cell_type": "code",
   "execution_count": null,
   "metadata": {},
   "outputs": [],
   "source": [
    "# Merge the datasets on 'Yelp URL' using pd.merge()\n",
    "#yelp_merged = pd.merge(restaurants_cleaned, reviews_cleaned, how='left', on='Yelp URL')\n",
    "\n",
    "# Check the merged data before exploding\n",
    "#yelp_merged.head()"
   ]
  },
  {
   "cell_type": "markdown",
   "metadata": {},
   "source": [
    "# Ethics & Privacy"
   ]
  },
  {
   "cell_type": "markdown",
   "metadata": {},
   "source": [
    "- Thoughtful discussion of ethical concerns included\n",
    "- Ethical concerns consider the whole data science process (question asked, data collected, data being used, the bias in data, analysis, post-analysis, etc.)\n",
    "- How your group handled bias/ethical concerns clearly described\n",
    "\n",
    "Acknowledge and address any ethics & privacy related issues of your question(s), proposed dataset(s), and/or analyses. Use the information provided in lecture to guide your group discussion and thinking. If you need further guidance, check out [Deon's Ethics Checklist](http://deon.drivendata.org/#data-science-ethics-checklist). In particular:\n",
    "\n",
    "- Are there any biases/privacy/terms of use issues with the data you propsed?\n",
    "- Are there potential biases in your dataset(s), in terms of who it composes, and how it was collected, that may be problematic in terms of it allowing for equitable analysis? (For example, does your data exclude particular populations, or is it likely to reflect particular human biases in a way that could be a problem?)\n",
    "- How will you set out to detect these specific biases before, during, and after/when communicating your analysis?\n",
    "- Are there any other issues related to your topic area, data, and/or analyses that are potentially problematic in terms of data privacy and equitable impact?\n",
    "- How will you handle issues you identified?"
   ]
  },
  {
   "cell_type": "markdown",
   "metadata": {},
   "source": [
    "# Team Expectations "
   ]
  },
  {
   "cell_type": "markdown",
   "metadata": {},
   "source": [
    "\n",
    "Read over the [COGS108 Team Policies](https://github.com/COGS108/Projects/blob/master/COGS108_TeamPolicies.md) individually. Then, include your group’s expectations of one another for successful completion of your COGS108 project below. Discuss and agree on what all of your expectations are. Discuss how your team will communicate throughout the quarter and consider how you will communicate respectfully should conflicts arise. By including each member’s name above and by adding their name to the submission, you are indicating that you have read the COGS108 Team Policies, accept your team’s expectations below, and have every intention to fulfill them. These expectations are for your team’s use and benefit — they won’t be graded for their details.\n",
    "\n",
    "* *Team Expectation 1*\n",
    "* *Team Expectation 2*\n",
    "* *Team Expecation 3*\n",
    "* ..."
   ]
  },
  {
   "cell_type": "markdown",
   "metadata": {},
   "source": [
    "# Project Timeline Proposal"
   ]
  },
  {
   "cell_type": "markdown",
   "metadata": {},
   "source": [
    "Specify your team's specific project timeline. An example timeline has been provided. Changes the dates, times, names, and details to fit your group's plan.\n",
    "\n",
    "If you think you will need any special resources or training outside what we have covered in COGS 108 to solve your problem, then your proposal should state these clearly. For example, if you have selected a problem that involves implementing multiple neural networks, please state this so we can make sure you know what you’re doing and so we can point you to resources you will need to implement your project. Note that you are not required to use outside methods.\n",
    "\n",
    "\n",
    "\n",
    "| Meeting Date  | Meeting Time| Completed Before Meeting  | Discuss at Meeting |\n",
    "|---|---|---|---|\n",
    "| 1/20  |  1 PM | Read & Think about COGS 108 expectations; brainstorm topics/questions  | Determine best form of communication; Discuss and decide on final project topic; discuss hypothesis; begin background research | \n",
    "| 1/26  |  10 AM |  Do background research on topic | Discuss ideal dataset(s) and ethics; draft project proposal | \n",
    "| 2/1  | 10 AM  | Edit, finalize, and submit proposal; Search for datasets  | Discuss Wrangling and possible analytical approaches; Assign group members to lead each specific part   |\n",
    "| 2/14  | 6 PM  | Import & Wrangle Data (Ant Man); EDA (Hulk) | Review/Edit wrangling/EDA; Discuss Analysis Plan   |\n",
    "| 2/23  | 12 PM  | Finalize wrangling/EDA; Begin Analysis (Iron Man; Thor) | Discuss/edit Analysis; Complete project check-in |\n",
    "| 3/13  | 12 PM  | Complete analysis; Draft results/conclusion/discussion (Wasp)| Discuss/edit full project |\n",
    "| 3/20  | Before 11:59 PM  | NA | Turn in Final Project & Group Project Surveys |"
   ]
  }
 ],
 "metadata": {
  "kernelspec": {
   "display_name": "Python 3",
   "language": "python",
   "name": "python3"
  },
  "language_info": {
   "codemirror_mode": {
    "name": "ipython",
    "version": 3
   },
   "file_extension": ".py",
   "mimetype": "text/x-python",
   "name": "python",
   "nbconvert_exporter": "python",
   "pygments_lexer": "ipython3",
   "version": "3.11.9"
  }
 },
 "nbformat": 4,
 "nbformat_minor": 2
}
